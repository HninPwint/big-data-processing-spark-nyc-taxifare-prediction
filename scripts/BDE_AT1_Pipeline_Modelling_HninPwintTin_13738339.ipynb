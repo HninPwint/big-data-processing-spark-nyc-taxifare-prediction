{
  "nbformat": 4,
  "nbformat_minor": 0,
  "metadata": {
    "colab": {
      "name": "HPT.ipynb",
      "provenance": [],
      "collapsed_sections": [],
      "machine_shape": "hm"
    },
    "kernelspec": {
      "name": "python3",
      "display_name": "Python 3"
    },
    "language_info": {
      "name": "python"
    }
  },
  "cells": [
    {
      "cell_type": "code",
      "metadata": {
        "id": "ViBF6SBl2b3P",
        "colab": {
          "base_uri": "https://localhost:8080/"
        },
        "outputId": "25f82da0-4ad9-48a0-b73f-b225dde8a2d3"
      },
      "source": [
        "from google.colab import drive\n",
        "drive.mount('/content/gdrive')"
      ],
      "execution_count": null,
      "outputs": [
        {
          "output_type": "stream",
          "text": [
            "Mounted at /content/gdrive\n"
          ],
          "name": "stdout"
        }
      ]
    },
    {
      "cell_type": "code",
      "metadata": {
        "id": "Q-EnOor13Lj6"
      },
      "source": [
        "import os \n",
        "\n",
        "# Set your working directory to a folder in your Google Drive. This way, if your notebook times out,\n",
        "# your files will be saved in your Google Drive!\n",
        "\n",
        "# the base Google Drive directory\n",
        "root_dir = \"/content/gdrive/MyDrive/\"\n",
        "\n",
        "\n",
        "# choose where you want your project files to be saved\n",
        "project_folder = '2021 - MDSI/BDE'"
      ],
      "execution_count": null,
      "outputs": []
    },
    {
      "cell_type": "code",
      "metadata": {
        "colab": {
          "base_uri": "https://localhost:8080/"
        },
        "id": "I513Cxuo3z6X",
        "outputId": "bf15b81a-22be-4c15-a13b-c477d1ff7b2a"
      },
      "source": [
        "def create_and_set_working_directory(project_folder):\n",
        "  # check if your project folder exists. if not, it will be created.\n",
        "  if os.path.isdir(root_dir + project_folder) == False:\n",
        "    os.mkdir(root_dir + project_folder)\n",
        "    print(root_dir + project_folder + ' did not exist but was created.')\n",
        "\n",
        "  # change the OS to use your project folder as the working directory\n",
        "  os.chdir(root_dir + project_folder)\n",
        "\n",
        "  # create a test file to make sure it shows up in the right place\n",
        "  !touch 'new_file_in_working_directory.txt'\n",
        "  print('\\nYour working directory was changed to ' + root_dir + project_folder + \\\n",
        "        \"\\n\\nAn empty text file was created there. You can also run !pwd to confirm the current working directory.\" )\n",
        "\n",
        "create_and_set_working_directory(project_folder)"
      ],
      "execution_count": null,
      "outputs": [
        {
          "output_type": "stream",
          "text": [
            "\n",
            "Your working directory was changed to /content/gdrive/MyDrive/2021 - MDSI/BDE\n",
            "\n",
            "An empty text file was created there. You can also run !pwd to confirm the current working directory.\n"
          ],
          "name": "stdout"
        }
      ]
    },
    {
      "cell_type": "markdown",
      "metadata": {
        "id": "RFnqJGUuB2v9"
      },
      "source": [
        ""
      ]
    },
    {
      "cell_type": "code",
      "metadata": {
        "id": "_KRvpEn0ANuI"
      },
      "source": [
        "!apt-get install openjdk-8-jdk-headless -qq > /dev/null"
      ],
      "execution_count": null,
      "outputs": []
    },
    {
      "cell_type": "code",
      "metadata": {
        "id": "ZyNMgc94AjTJ"
      },
      "source": [
        "!wget -q https://archive.apache.org/dist/spark/spark-2.4.5/spark-2.4.5-bin-hadoop2.7.tgz     \n"
      ],
      "execution_count": null,
      "outputs": []
    },
    {
      "cell_type": "code",
      "metadata": {
        "id": "FXczeuE0BVjD"
      },
      "source": [
        "!tar xf spark-2.4.5-bin-hadoop2.7.tgz   "
      ],
      "execution_count": null,
      "outputs": []
    },
    {
      "cell_type": "code",
      "metadata": {
        "id": "vgAUB6YHCBy6"
      },
      "source": [
        "!pip install -q findspark"
      ],
      "execution_count": null,
      "outputs": []
    },
    {
      "cell_type": "code",
      "metadata": {
        "id": "7zU3M47-85tf"
      },
      "source": [
        "## Set the environment variable\n",
        "import os \n",
        "os.environ[\"JAVA_HOME\"] = \"/usr/lib/jvm/java-8-openjdk-amd64\"\n",
        "os.environ[\"SPARK_HOME\"] = \"/content/gdrive/MyDrive/2021 - MDSI/BDE/spark-2.4.5-bin-hadoop2.7\""
      ],
      "execution_count": null,
      "outputs": []
    },
    {
      "cell_type": "code",
      "metadata": {
        "id": "zmQWJ-NT6Yz_"
      },
      "source": [
        "import findspark\n",
        "findspark.init() "
      ],
      "execution_count": null,
      "outputs": []
    },
    {
      "cell_type": "code",
      "metadata": {
        "id": "QSveFjh-MIVL"
      },
      "source": [
        ""
      ],
      "execution_count": null,
      "outputs": []
    },
    {
      "cell_type": "code",
      "metadata": {
        "id": "n8e61jQp4UIV"
      },
      "source": [
        "from pyspark.sql import SparkSession\n",
        "\n",
        "from pyspark.sql.types import IntegerType\n",
        "from pyspark.sql.types import StringType \n",
        "from pyspark.sql.types import FloatType\n",
        "from pyspark.sql.types import TimestampType \n",
        "from pyspark.sql.types import DoubleType\n",
        "\n",
        "import pyspark.sql.functions as F"
      ],
      "execution_count": null,
      "outputs": []
    },
    {
      "cell_type": "code",
      "metadata": {
        "id": "T_WG8Y594XIe"
      },
      "source": [
        "spark = SparkSession.builder.appName('new_york_taxi_fare_prediction').getOrCreate()"
      ],
      "execution_count": null,
      "outputs": []
    },
    {
      "cell_type": "markdown",
      "metadata": {
        "id": "HHihWkdeORg5"
      },
      "source": [
        "# Start Building Pipeline Here\n"
      ]
    },
    {
      "cell_type": "code",
      "metadata": {
        "id": "wU_ddcJnOCrU"
      },
      "source": [
        "df_cleaned_super = spark.read.parquet(\"/content/gdrive/MyDrive/2021 - MDSI/BDE/data/df_transformed_2yr_final.parquet\")"
      ],
      "execution_count": 92,
      "outputs": []
    },
    {
      "cell_type": "code",
      "metadata": {
        "id": "7ROu5KhVEzSH"
      },
      "source": [
        "# Extract Year and \n",
        "df_cleaned_super = df_cleaned_super.withColumn('year', F.year(F.col('pickup_datetime'))).\\\n",
        "                                    withColumn('month', F.month(F.col('pickup_datetime')))"
      ],
      "execution_count": 93,
      "outputs": []
    },
    {
      "cell_type": "code",
      "metadata": {
        "colab": {
          "base_uri": "https://localhost:8080/"
        },
        "id": "skZb5usUE3gI",
        "outputId": "825b75f7-032f-4e1e-b0d5-d24882b92199"
      },
      "source": [
        "df_cleaned_super.show(2)"
      ],
      "execution_count": 94,
      "outputs": [
        {
          "output_type": "stream",
          "text": [
            "+--------+-------------------+-------------------+------------------+----------+------------+------------+---------------+-------------+-----------+-----+-------+----------+------------+---------------------+------------+------------+------------+-----------+------------+------------+-----------------+-----------+------------------------+----+-----+\n",
            "|vendorid|    pickup_datetime|   dropoff_datetime|store_and_fwd_flag|ratecodeid|pulocationid|dolocationid|passenger_count|trip_distance|fare_amount|extra|mta_tax|tip_amount|tolls_amount|improvement_surcharge|total_amount|payment_type|taxi_campany|pickup_hour|week_day_num|week_day_abb|trip_duration_sec|speed_km_hr|trip_duration_range_mins|year|month|\n",
            "+--------+-------------------+-------------------+------------------+----------+------------+------------+---------------+-------------+-----------+-----+-------+----------+------------+---------------------+------------+------------+------------+-----------+------------+------------+-----------------+-----------+------------------------+----+-----+\n",
            "|       2|2017-09-16 15:36:34|2017-09-16 15:43:43|                 N|         1|         234|         164|              1|         1.15|        6.5|    0|    0.5|      1.46|         0.0|                  0.3|        8.76|           1|       Green|         15|           6|         Sat|              429|      15.53|               5-10 mins|2017|    9|\n",
            "|       1|2017-09-16 15:04:59|2017-09-16 15:33:25|                 N|         1|         233|         239|              1|          4.0|       21.0|    0|    0.5|         0|         0.0|                  0.3|        21.8|           2|       Green|         15|           6|         Sat|             1706|      13.58|              20-30 mins|2017|    9|\n",
            "+--------+-------------------+-------------------+------------------+----------+------------+------------+---------------+-------------+-----------+-----+-------+----------+------------+---------------------+------------+------------+------------+-----------+------------+------------+-----------------+-----------+------------------------+----+-----+\n",
            "only showing top 2 rows\n",
            "\n"
          ],
          "name": "stdout"
        }
      ]
    },
    {
      "cell_type": "code",
      "metadata": {
        "id": "H5iJy4dWI87A"
      },
      "source": [
        ""
      ],
      "execution_count": null,
      "outputs": []
    },
    {
      "cell_type": "code",
      "metadata": {
        "id": "x4Tmg4_9OOgj"
      },
      "source": [
        "# Select the features interested: for SQL + Model\n",
        "model_cols_list = ['year', 'month','passenger_count', 'trip_distance', 'total_amount', 'pickup_hour', 'week_day_num',\n",
        "             'ratecodeid', 'pulocationid', 'taxi_campany', 'trip_duration_range_mins', 'store_and_fwd_flag', 'tolls_amount' ]\n",
        "df_cleaned_model = df_cleaned_super.select(model_cols_list)"
      ],
      "execution_count": 95,
      "outputs": []
    },
    {
      "cell_type": "code",
      "metadata": {
        "colab": {
          "base_uri": "https://localhost:8080/"
        },
        "id": "i--N8NZnOuiF",
        "outputId": "e7c08002-7a88-4027-a2d6-81644f016eb8"
      },
      "source": [
        "df_cleaned_model.show(5)"
      ],
      "execution_count": 96,
      "outputs": [
        {
          "output_type": "stream",
          "text": [
            "+----+-----+---------------+-------------+------------+-----------+------------+----------+------------+------------+------------------------+------------------+------------+\n",
            "|year|month|passenger_count|trip_distance|total_amount|pickup_hour|week_day_num|ratecodeid|pulocationid|taxi_campany|trip_duration_range_mins|store_and_fwd_flag|tolls_amount|\n",
            "+----+-----+---------------+-------------+------------+-----------+------------+----------+------------+------------+------------------------+------------------+------------+\n",
            "|2017|    9|              1|         1.15|        8.76|         15|           6|         1|         234|       Green|               5-10 mins|                 N|         0.0|\n",
            "|2017|    9|              1|          4.0|        21.8|         15|           6|         1|         233|       Green|              20-30 mins|                 N|         0.0|\n",
            "|2017|    9|              1|         6.83|       27.88|         15|           6|         1|         230|       Green|              20-30 mins|                 N|         0.0|\n",
            "|2017|    9|              1|         1.76|       17.76|         15|           6|         1|         234|       Green|              20-30 mins|                 N|         0.0|\n",
            "|2017|    9|              1|         1.92|       15.96|         15|           6|         1|          79|       Green|              10-20 mins|                 N|         0.0|\n",
            "+----+-----+---------------+-------------+------------+-----------+------------+----------+------------+------------+------------------------+------------------+------------+\n",
            "only showing top 5 rows\n",
            "\n"
          ],
          "name": "stdout"
        }
      ]
    },
    {
      "cell_type": "code",
      "metadata": {
        "id": "koscT-EYOxP3"
      },
      "source": [
        "from pyspark.ml.feature import StringIndexer, VectorAssembler, OneHotEncoderEstimator\n",
        "from pyspark.ml import Pipeline\n",
        "\n",
        "stages = []\n",
        "\n",
        "## Encode the Cartegorical Features\n",
        "cat_cols = ['ratecodeid', 'taxi_campany', 'trip_duration_range_mins', 'store_and_fwd_flag', 'pulocationid', 'week_day_num','year', 'month']\n",
        "for cat_col in cat_cols:\n",
        "    col_indexer = StringIndexer(inputCol=cat_col, outputCol=f\"{cat_col}_ind\")\n",
        "    col_encoder = OneHotEncoderEstimator(inputCols=[f\"{cat_col}_ind\"], outputCols=[f\"{cat_col}_ohe\"])\n",
        "    stages += [col_indexer, col_encoder]\n",
        "cat_cols_ohe = [f\"{cat_col}_ohe\" for cat_col in cat_cols]"
      ],
      "execution_count": 97,
      "outputs": []
    },
    {
      "cell_type": "code",
      "metadata": {
        "colab": {
          "base_uri": "https://localhost:8080/"
        },
        "id": "uhQweOJPPL1Z",
        "outputId": "27205634-2285-47c6-8b4d-f2b41c3ec3b9"
      },
      "source": [
        "## Vectorize the Numerical Features \n",
        "\n",
        "num_cols = ['passenger_count', 'trip_distance', 'pickup_hour', 'total_amount']\n",
        "\n",
        "assembler = VectorAssembler(inputCols=cat_cols_ohe + num_cols, outputCol=\"features\")\n",
        "assembler.setHandleInvalid(\"keep\")"
      ],
      "execution_count": 98,
      "outputs": [
        {
          "output_type": "execute_result",
          "data": {
            "text/plain": [
              "VectorAssembler_73efc3742f4a"
            ]
          },
          "metadata": {
            "tags": []
          },
          "execution_count": 98
        }
      ]
    },
    {
      "cell_type": "code",
      "metadata": {
        "id": "pVtdvTPaPQkn"
      },
      "source": [
        "stages += [assembler]\n",
        "\n",
        "pipeline = Pipeline(stages=stages)"
      ],
      "execution_count": 99,
      "outputs": []
    },
    {
      "cell_type": "code",
      "metadata": {
        "id": "lCiGokOzPS3y"
      },
      "source": [
        "### Supply the training Data to pipeline\n",
        "pipeline_model = pipeline.fit(df_cleaned_model)"
      ],
      "execution_count": 100,
      "outputs": []
    },
    {
      "cell_type": "code",
      "metadata": {
        "id": "BfcP4xREPjmv"
      },
      "source": [
        "pipelined_cleaned_df = pipeline_model.transform(df_cleaned_model)"
      ],
      "execution_count": 101,
      "outputs": []
    },
    {
      "cell_type": "code",
      "metadata": {
        "colab": {
          "base_uri": "https://localhost:8080/"
        },
        "id": "oeMlqK30IR7D",
        "outputId": "53d920e0-7e68-4498-c01e-5d471c4f2c67"
      },
      "source": [
        "pipelined_cleaned_df.show(2)"
      ],
      "execution_count": 102,
      "outputs": [
        {
          "output_type": "stream",
          "text": [
            "+----+-----+---------------+-------------+------------+-----------+------------+----------+------------+------------+------------------------+------------------+------------+--------------+--------------+----------------+----------------+----------------------------+----------------------------+----------------------+----------------------+----------------+----------------+----------------+----------------+--------+---------+---------+--------------+--------------------+\n",
            "|year|month|passenger_count|trip_distance|total_amount|pickup_hour|week_day_num|ratecodeid|pulocationid|taxi_campany|trip_duration_range_mins|store_and_fwd_flag|tolls_amount|ratecodeid_ind|ratecodeid_ohe|taxi_campany_ind|taxi_campany_ohe|trip_duration_range_mins_ind|trip_duration_range_mins_ohe|store_and_fwd_flag_ind|store_and_fwd_flag_ohe|pulocationid_ind|pulocationid_ohe|week_day_num_ind|week_day_num_ohe|year_ind| year_ohe|month_ind|     month_ohe|            features|\n",
            "+----+-----+---------------+-------------+------------+-----------+------------+----------+------------+------------+------------------------+------------------+------------+--------------+--------------+----------------+----------------+----------------------------+----------------------------+----------------------+----------------------+----------------+----------------+----------------+----------------+--------+---------+---------+--------------+--------------------+\n",
            "|2017|    9|              1|         1.15|        8.76|         15|           6|         1|         234|       Green|               5-10 mins|                 N|         0.0|           0.0| (6,[0],[1.0])|             0.0|   (1,[0],[1.0])|                         1.0|               (4,[1],[1.0])|                   0.0|         (1,[0],[1.0])|             6.0| (264,[6],[1.0])|             0.0|   (6,[0],[1.0])|     1.0|(1,[],[])|      8.0|(11,[8],[1.0])|(298,[0,6,8,11,18...|\n",
            "|2017|    9|              1|          4.0|        21.8|         15|           6|         1|         233|       Green|              20-30 mins|                 N|         0.0|           0.0| (6,[0],[1.0])|             0.0|   (1,[0],[1.0])|                         2.0|               (4,[2],[1.0])|                   0.0|         (1,[0],[1.0])|            35.0|(264,[35],[1.0])|             0.0|   (6,[0],[1.0])|     1.0|(1,[],[])|      8.0|(11,[8],[1.0])|(298,[0,6,9,11,47...|\n",
            "+----+-----+---------------+-------------+------------+-----------+------------+----------+------------+------------+------------------------+------------------+------------+--------------+--------------+----------------+----------------+----------------------------+----------------------------+----------------------+----------------------+----------------+----------------+----------------+----------------+--------+---------+---------+--------------+--------------------+\n",
            "only showing top 2 rows\n",
            "\n"
          ],
          "name": "stdout"
        }
      ]
    },
    {
      "cell_type": "code",
      "metadata": {
        "colab": {
          "base_uri": "https://localhost:8080/"
        },
        "id": "8sMKSdXSe0Vq",
        "outputId": "c014ade8-6ba6-412e-d957-a339d8b92e33"
      },
      "source": [
        "pipelined_cleaned_df.printSchema()"
      ],
      "execution_count": 103,
      "outputs": [
        {
          "output_type": "stream",
          "text": [
            "root\n",
            " |-- year: integer (nullable = true)\n",
            " |-- month: integer (nullable = true)\n",
            " |-- passenger_count: integer (nullable = true)\n",
            " |-- trip_distance: float (nullable = true)\n",
            " |-- total_amount: float (nullable = true)\n",
            " |-- pickup_hour: integer (nullable = true)\n",
            " |-- week_day_num: integer (nullable = true)\n",
            " |-- ratecodeid: string (nullable = true)\n",
            " |-- pulocationid: string (nullable = true)\n",
            " |-- taxi_campany: string (nullable = true)\n",
            " |-- trip_duration_range_mins: string (nullable = true)\n",
            " |-- store_and_fwd_flag: string (nullable = true)\n",
            " |-- tolls_amount: float (nullable = true)\n",
            " |-- ratecodeid_ind: double (nullable = false)\n",
            " |-- ratecodeid_ohe: vector (nullable = true)\n",
            " |-- taxi_campany_ind: double (nullable = false)\n",
            " |-- taxi_campany_ohe: vector (nullable = true)\n",
            " |-- trip_duration_range_mins_ind: double (nullable = false)\n",
            " |-- trip_duration_range_mins_ohe: vector (nullable = true)\n",
            " |-- store_and_fwd_flag_ind: double (nullable = false)\n",
            " |-- store_and_fwd_flag_ohe: vector (nullable = true)\n",
            " |-- pulocationid_ind: double (nullable = false)\n",
            " |-- pulocationid_ohe: vector (nullable = true)\n",
            " |-- week_day_num_ind: double (nullable = false)\n",
            " |-- week_day_num_ohe: vector (nullable = true)\n",
            " |-- year_ind: double (nullable = false)\n",
            " |-- year_ohe: vector (nullable = true)\n",
            " |-- month_ind: double (nullable = false)\n",
            " |-- month_ohe: vector (nullable = true)\n",
            " |-- features: vector (nullable = true)\n",
            "\n"
          ],
          "name": "stdout"
        }
      ]
    },
    {
      "cell_type": "code",
      "metadata": {
        "id": "hw0SBP67K4NA"
      },
      "source": [
        "pipelined_cleaned_2yr_final_df = pipelined_cleaned_df.select(['features'] + model_cols_list)"
      ],
      "execution_count": 107,
      "outputs": []
    },
    {
      "cell_type": "code",
      "metadata": {
        "colab": {
          "base_uri": "https://localhost:8080/"
        },
        "id": "Fu00u_6zaIXi",
        "outputId": "602d2117-ac5e-4ce2-dd94-08b034b39e23"
      },
      "source": [
        "pipelined_cleaned_2yr_final_df.show(2)"
      ],
      "execution_count": 108,
      "outputs": [
        {
          "output_type": "stream",
          "text": [
            "+--------------------+----+-----+---------------+-------------+------------+-----------+------------+----------+------------+------------+------------------------+------------------+------------+\n",
            "|            features|year|month|passenger_count|trip_distance|total_amount|pickup_hour|week_day_num|ratecodeid|pulocationid|taxi_campany|trip_duration_range_mins|store_and_fwd_flag|tolls_amount|\n",
            "+--------------------+----+-----+---------------+-------------+------------+-----------+------------+----------+------------+------------+------------------------+------------------+------------+\n",
            "|(298,[0,6,8,11,18...|2017|    9|              1|         1.15|        8.76|         15|           6|         1|         234|       Green|               5-10 mins|                 N|         0.0|\n",
            "|(298,[0,6,9,11,47...|2017|    9|              1|          4.0|        21.8|         15|           6|         1|         233|       Green|              20-30 mins|                 N|         0.0|\n",
            "+--------------------+----+-----+---------------+-------------+------------+-----------+------------+----------+------------+------------+------------------------+------------------+------------+\n",
            "only showing top 2 rows\n",
            "\n"
          ],
          "name": "stdout"
        }
      ]
    },
    {
      "cell_type": "code",
      "metadata": {
        "colab": {
          "base_uri": "https://localhost:8080/"
        },
        "id": "fEcyg5DNaL5m",
        "outputId": "86b590a6-b927-484f-afb6-c52b1051d549"
      },
      "source": [
        "pipelined_cleaned_2yr_final_df.printSchema()"
      ],
      "execution_count": 109,
      "outputs": [
        {
          "output_type": "stream",
          "text": [
            "root\n",
            " |-- features: vector (nullable = true)\n",
            " |-- year: integer (nullable = true)\n",
            " |-- month: integer (nullable = true)\n",
            " |-- passenger_count: integer (nullable = true)\n",
            " |-- trip_distance: float (nullable = true)\n",
            " |-- total_amount: float (nullable = true)\n",
            " |-- pickup_hour: integer (nullable = true)\n",
            " |-- week_day_num: integer (nullable = true)\n",
            " |-- ratecodeid: string (nullable = true)\n",
            " |-- pulocationid: string (nullable = true)\n",
            " |-- taxi_campany: string (nullable = true)\n",
            " |-- trip_duration_range_mins: string (nullable = true)\n",
            " |-- store_and_fwd_flag: string (nullable = true)\n",
            " |-- tolls_amount: float (nullable = true)\n",
            "\n"
          ],
          "name": "stdout"
        }
      ]
    },
    {
      "cell_type": "code",
      "metadata": {
        "id": "RmOtbf8MLUkM"
      },
      "source": [
        "# pipelined_cleaned_2yr_final_df.write.format('parquet').save(\"/content/gdrive/MyDrive/2021 - MDSI/BDE/data/df_pipelined_2yr_gdrive_final.parquet\", mode='append')"
      ],
      "execution_count": null,
      "outputs": []
    },
    {
      "cell_type": "code",
      "metadata": {
        "colab": {
          "base_uri": "https://localhost:8080/"
        },
        "id": "lgOR3yv1LIhS",
        "outputId": "ee42dc6f-958e-4c28-8ce1-4d169a91940d"
      },
      "source": [
        "pipelined_cleaned_2yr_final_df.show(2)"
      ],
      "execution_count": 115,
      "outputs": [
        {
          "output_type": "stream",
          "text": [
            "+--------------------+----+-----+---------------+-------------+------------+-----------+------------+----------+------------+------------+------------------------+------------------+------------+\n",
            "|            features|year|month|passenger_count|trip_distance|total_amount|pickup_hour|week_day_num|ratecodeid|pulocationid|taxi_campany|trip_duration_range_mins|store_and_fwd_flag|tolls_amount|\n",
            "+--------------------+----+-----+---------------+-------------+------------+-----------+------------+----------+------------+------------+------------------------+------------------+------------+\n",
            "|(298,[0,6,8,11,18...|2017|    9|              1|         1.15|        8.76|         15|           6|         1|         234|       Green|               5-10 mins|                 N|         0.0|\n",
            "|(298,[0,6,9,11,47...|2017|    9|              1|          4.0|        21.8|         15|           6|         1|         233|       Green|              20-30 mins|                 N|         0.0|\n",
            "+--------------------+----+-----+---------------+-------------+------------+-----------+------------+----------+------------+------------+------------------------+------------------+------------+\n",
            "only showing top 2 rows\n",
            "\n"
          ],
          "name": "stdout"
        }
      ]
    },
    {
      "cell_type": "markdown",
      "metadata": {
        "id": "iiJZFv7qa0kh"
      },
      "source": [
        "# Split the data - first 21 months for training and last 3 months for testing"
      ]
    },
    {
      "cell_type": "code",
      "metadata": {
        "id": "kU67gaHVHOMj"
      },
      "source": [
        "pipelined_cleaned_3month_df = pipelined_cleaned_2yr_final_df.filter((F.col('year') == 2018) & (((F.col('month') == 10) |(F.col('month') == 11) |(F.col('month') == 12)) ))"
      ],
      "execution_count": 111,
      "outputs": []
    },
    {
      "cell_type": "code",
      "metadata": {
        "id": "QZb6ENDaIorl"
      },
      "source": [
        "pipelined_cleaned_21month_df = pipelined_cleaned_2yr_final_df.filter(((F.col('year') == 2017) & ((F.col('month') >= 1) & (F.col('month') <= 12)))|\n",
        "                                                            ((F.col('year') == 2018) & ((F.col('month') >= 1) & (F.col('month') <= 9)))\n",
        "                                                            )"
      ],
      "execution_count": 112,
      "outputs": []
    },
    {
      "cell_type": "code",
      "metadata": {
        "colab": {
          "base_uri": "https://localhost:8080/"
        },
        "id": "BKNLMFx0KRdS",
        "outputId": "16005bf4-e5c6-4439-e208-6c239ebbe2c5"
      },
      "source": [
        "pipelined_cleaned_21month_df.show(2)"
      ],
      "execution_count": 113,
      "outputs": [
        {
          "output_type": "stream",
          "text": [
            "+--------------------+----+-----+---------------+-------------+------------+-----------+------------+----------+------------+------------+------------------------+------------------+------------+\n",
            "|            features|year|month|passenger_count|trip_distance|total_amount|pickup_hour|week_day_num|ratecodeid|pulocationid|taxi_campany|trip_duration_range_mins|store_and_fwd_flag|tolls_amount|\n",
            "+--------------------+----+-----+---------------+-------------+------------+-----------+------------+----------+------------+------------+------------------------+------------------+------------+\n",
            "|(298,[0,6,8,11,18...|2017|    9|              1|         1.15|        8.76|         15|           6|         1|         234|       Green|               5-10 mins|                 N|         0.0|\n",
            "|(298,[0,6,9,11,47...|2017|    9|              1|          4.0|        21.8|         15|           6|         1|         233|       Green|              20-30 mins|                 N|         0.0|\n",
            "+--------------------+----+-----+---------------+-------------+------------+-----------+------------+----------+------------+------------+------------------------+------------------+------------+\n",
            "only showing top 2 rows\n",
            "\n"
          ],
          "name": "stdout"
        }
      ]
    },
    {
      "cell_type": "code",
      "metadata": {
        "colab": {
          "base_uri": "https://localhost:8080/"
        },
        "id": "M934yea4KXg2",
        "outputId": "1679a582-a442-489f-d98e-a65699eb9d89"
      },
      "source": [
        "pipelined_cleaned_3month_df.show(2)"
      ],
      "execution_count": 114,
      "outputs": [
        {
          "output_type": "stream",
          "text": [
            "+--------------------+----+-----+---------------+-------------+------------+-----------+------------+----------+------------+------------+------------------------+------------------+------------+\n",
            "|            features|year|month|passenger_count|trip_distance|total_amount|pickup_hour|week_day_num|ratecodeid|pulocationid|taxi_campany|trip_duration_range_mins|store_and_fwd_flag|tolls_amount|\n",
            "+--------------------+----+-----+---------------+-------------+------------+-----------+------------+----------+------------+------------+------------------------+------------------+------------+\n",
            "|(298,[0,7,11,77,2...|2018|   11|              6|         2.36|        12.8|          1|           4|         1|         223|      Yellow|              10-20 mins|                 N|         0.0|\n",
            "|(298,[0,8,11,54,2...|2018|   11|              6|         1.38|         7.8|          4|           4|         1|           7|      Yellow|               5-10 mins|                 N|         0.0|\n",
            "+--------------------+----+-----+---------------+-------------+------------+-----------+------------+----------+------------+------------+------------------------+------------------+------------+\n",
            "only showing top 2 rows\n",
            "\n"
          ],
          "name": "stdout"
        }
      ]
    },
    {
      "cell_type": "code",
      "metadata": {
        "id": "w3WPFP2oKrz6"
      },
      "source": [
        ""
      ],
      "execution_count": null,
      "outputs": []
    },
    {
      "cell_type": "markdown",
      "metadata": {
        "id": "6gTOm9a5ajm9"
      },
      "source": [
        "# Linear Regression \n",
        "\n"
      ]
    },
    {
      "cell_type": "code",
      "metadata": {
        "id": "VjW2qLjj7a2P"
      },
      "source": [
        "from pyspark.ml.regression import LinearRegression\n",
        "\n",
        "lr = LinearRegression(featuresCol = 'features', labelCol='total_amount', maxIter=10, regParam=0.3, elasticNetParam=0.8)"
      ],
      "execution_count": 116,
      "outputs": []
    },
    {
      "cell_type": "code",
      "metadata": {
        "id": "B0kGht9w7n8f"
      },
      "source": [
        "lr_model = lr.fit(pipelined_cleaned_21month_df)"
      ],
      "execution_count": 117,
      "outputs": []
    },
    {
      "cell_type": "code",
      "metadata": {
        "colab": {
          "base_uri": "https://localhost:8080/"
        },
        "id": "03RQwXDMO-qR",
        "outputId": "f3ad4637-70db-4a45-e751-555f01fb87c8"
      },
      "source": [
        "lr_predictions_train = lr_model.transform(pipelined_cleaned_21month_df)\n",
        "lr_predictions_train.select(\"prediction\",\"total_amount\",\"features\").show(20)"
      ],
      "execution_count": 118,
      "outputs": [
        {
          "output_type": "stream",
          "text": [
            "+------------------+------------+--------------------+\n",
            "|        prediction|total_amount|            features|\n",
            "+------------------+------------+--------------------+\n",
            "|  9.08329902236744|        8.76|(298,[0,6,8,11,18...|\n",
            "|21.428128581429874|        21.8|(298,[0,6,9,11,47...|\n",
            "|27.524592744206984|       27.88|(298,[0,6,9,11,17...|\n",
            "|17.293518928586572|       17.76|(298,[0,6,9,11,18...|\n",
            "|15.720854920704756|       15.96|(298,[0,6,7,11,22...|\n",
            "|15.079499754350337|       15.36|(298,[0,6,7,11,30...|\n",
            "|18.197390130852703|        18.5|(298,[0,6,7,11,37...|\n",
            "|  9.62444741352145|         9.3|(298,[0,6,8,11,60...|\n",
            "| 37.65650017733958|       39.06|(298,[0,6,9,11,24...|\n",
            "| 9.610622671881897|        9.36|(298,[0,6,8,11,16...|\n",
            "|15.845376023500343|        15.8|(298,[0,6,7,11,14...|\n",
            "|13.793631385913939|        13.8|(298,[0,6,7,11,27...|\n",
            "| 21.51537875119506|       21.96|(298,[0,6,9,11,38...|\n",
            "|15.230764921294728|       15.36|(298,[0,6,7,11,30...|\n",
            "|14.614366723847542|       14.65|(298,[0,6,7,11,50...|\n",
            "|13.830865861231329|        13.8|(298,[0,6,7,11,19...|\n",
            "|10.136956175194163|         9.8|(298,[0,6,7,11,61...|\n",
            "| 9.109262286341595|        8.75|(298,[0,6,8,11,18...|\n",
            "| 8.683516324771663|         8.3|(298,[0,6,8,11,12...|\n",
            "| 9.717533685040546|         9.3|(298,[0,6,8,11,37...|\n",
            "+------------------+------------+--------------------+\n",
            "only showing top 20 rows\n",
            "\n"
          ],
          "name": "stdout"
        }
      ]
    },
    {
      "cell_type": "code",
      "metadata": {
        "colab": {
          "base_uri": "https://localhost:8080/"
        },
        "id": "NW12O2EyFpPK",
        "outputId": "7c3a9920-2061-49b3-9337-3cdf3dbd1da0"
      },
      "source": [
        "from pyspark.ml.evaluation import RegressionEvaluator\n",
        "lr_evaluator = RegressionEvaluator(predictionCol=\"prediction\", \\\n",
        "                 labelCol=\"total_amount\", metricName=\"rmse\")\n",
        "rmse = lr_evaluator.evaluate(lr_predictions_train)\n",
        "print(\"Root Mean Squared Error (RMSE) on Train data = %g\" % rmse)"
      ],
      "execution_count": 119,
      "outputs": [
        {
          "output_type": "stream",
          "text": [
            "Root Mean Squared Error (RMSE) on Train data = 0.461471\n"
          ],
          "name": "stdout"
        }
      ]
    },
    {
      "cell_type": "code",
      "metadata": {
        "colab": {
          "base_uri": "https://localhost:8080/"
        },
        "id": "-N3AE11h_FAg",
        "outputId": "08446848-e034-449f-825d-bea21d89b921"
      },
      "source": [
        "lr_predictions_test = lr_model.transform(pipelined_cleaned_3month_df)\n",
        "lr_predictions_test.select(\"prediction\",\"total_amount\",\"features\").show(20)"
      ],
      "execution_count": 61,
      "outputs": [
        {
          "output_type": "stream",
          "text": [
            "+------------------+------------+--------------------+\n",
            "|        prediction|total_amount|            features|\n",
            "+------------------+------------+--------------------+\n",
            "|12.997035248889294|        12.8|(288,[0,7,11,77,2...|\n",
            "| 8.278218108661902|         7.8|(288,[0,8,11,54,2...|\n",
            "|15.831465154675325|        15.8|(288,[0,7,11,113,...|\n",
            "|19.933035724450573|        19.8|(288,[0,7,11,92,2...|\n",
            "| 44.23234117573518|        44.3|(288,[0,9,11,113,...|\n",
            "|15.062966643818646|        14.8|(288,[0,7,11,92,2...|\n",
            "|35.146524721841736|        35.3|(288,[0,10,11,113...|\n",
            "|12.997035248889294|        12.8|(288,[0,7,11,77,2...|\n",
            "| 8.278218108661902|         7.8|(288,[0,8,11,54,2...|\n",
            "|15.831465154675325|        15.8|(288,[0,7,11,113,...|\n",
            "|19.933035724450573|        19.8|(288,[0,7,11,92,2...|\n",
            "| 44.23234117573518|        44.3|(288,[0,9,11,113,...|\n",
            "|15.062966643818646|        14.8|(288,[0,7,11,92,2...|\n",
            "|35.146524721841736|        35.3|(288,[0,10,11,113...|\n",
            "|12.997035248889294|        12.8|(288,[0,7,11,77,2...|\n",
            "| 8.278218108661902|         7.8|(288,[0,8,11,54,2...|\n",
            "|15.831465154675325|        15.8|(288,[0,7,11,113,...|\n",
            "|19.933035724450573|        19.8|(288,[0,7,11,92,2...|\n",
            "| 44.23234117573518|        44.3|(288,[0,9,11,113,...|\n",
            "|15.062966643818646|        14.8|(288,[0,7,11,92,2...|\n",
            "+------------------+------------+--------------------+\n",
            "only showing top 20 rows\n",
            "\n"
          ],
          "name": "stdout"
        }
      ]
    },
    {
      "cell_type": "code",
      "metadata": {
        "colab": {
          "base_uri": "https://localhost:8080/"
        },
        "id": "MmuZ1L4MEHCF",
        "outputId": "9595fba4-056c-4773-e053-2112ff42b23d"
      },
      "source": [
        "from pyspark.ml.evaluation import RegressionEvaluator\n",
        "lr_evaluator = RegressionEvaluator(predictionCol=\"prediction\", \\\n",
        "                 labelCol=\"total_amount\", metricName=\"rmse\")\n",
        "rmse = lr_evaluator.evaluate(lr_predictions_test)\n",
        "print(\"Root Mean Squared Error (RMSE) on Test data = %g\" % rmse)"
      ],
      "execution_count": 62,
      "outputs": [
        {
          "output_type": "stream",
          "text": [
            "Root Mean Squared Error (RMSE) on Test data = 0.470649\n"
          ],
          "name": "stdout"
        }
      ]
    }
  ]
}